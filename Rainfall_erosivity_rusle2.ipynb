{
 "cells": [
  {
   "cell_type": "markdown",
   "metadata": {},
   "source": [
    "# Rainfall Erosivity Estimation"
   ]
  },
  {
   "cell_type": "markdown",
   "metadata": {},
   "source": [
    "## Storm Idenfication"
   ]
  },
  {
   "cell_type": "code",
   "execution_count": null,
   "metadata": {},
   "outputs": [],
   "source": [
    "import importlib, identify_storms, pandas as pd\n",
    "importlib.reload(identify_storms)\n",
    "\n",
    "summary_df = identify_storms.identify_storms(\n",
    "    input_dir=\"Rain_Data_High_Quality\",\n",
    "    output_dir=\"storms_identification\",\n",
    "    rain_col=\"rain\",\n",
    "    time_col=\"time\",\n",
    "    recursive=True\n",
    ")\n",
    "print(\"Statuses:\\n\", summary_df['status'].value_counts(), \"\\n\")\n",
    "print(\"Sample rows:\\n\", summary_df.head(10))\n"
   ]
  },
  {
   "cell_type": "markdown",
   "metadata": {},
   "source": [
    "## Estimate rainfall intensity in each time interval"
   ]
  },
  {
   "cell_type": "code",
   "execution_count": null,
   "metadata": {},
   "outputs": [],
   "source": [
    "import importlib, identify_storms, pandas as pd\n",
    "\n",
    "importlib.reload(identify_storms)\n",
    "import process_intervals\n",
    "summary = process_intervals.process_directory(\n",
    "    input_dir=\"storms_identification\",   # your storm CSV tree\n",
    "    output_dir=\"storms_intervals\",       # where to save processed storms\n",
    "    rain_col=\"rain\",\n",
    "    time_col=\"time\",\n",
    "    recursive=True\n",
    "  \n",
    ")\n",
    "summary.head()\n",
    "\n"
   ]
  },
  {
   "cell_type": "markdown",
   "metadata": {},
   "source": [
    "## Erosivity Storm"
   ]
  },
  {
   "cell_type": "code",
   "execution_count": null,
   "metadata": {},
   "outputs": [],
   "source": [
    "import importlib, erosive_storms\n",
    "importlib.reload(erosive_storms)\n",
    "\n",
    "summary = erosive_storms.filter_erosive_storms(\n",
    "    input_dir=\"storms_intervals\",\n",
    "    output_dir=\"erosive_storms\",\n",
    "    threshold_mm=12.7,  # 12.7 mm (~0.5 in)\n",
    "    cumulative_col=\"cumulative rain depth (mm)\",  # must match your files\n",
    "    station_col=\"stid\",\n",
    "    time_col=\"time\"\n",
    ")\n",
    "summary.head()\n"
   ]
  },
  {
   "cell_type": "markdown",
   "metadata": {},
   "source": [
    "## Unite Rainfall Energy Estimation"
   ]
  },
  {
   "cell_type": "code",
   "execution_count": null,
   "metadata": {},
   "outputs": [],
   "source": [
    "from importlib import reload\n",
    "import rainfall_energy\n",
    "\n",
    "reload(rainfall_energy)\n",
    "\n",
    "summary = rainfall_energy.process_rainfall_energy(\n",
    "    input_dir=\"erosive_storms\",          # has subfolders per STID\n",
    "    output_dir=\"storm_energy\",  # mirrored structure with new columns\n",
    "    intensity_col=\"rainfall intensity (mm/hr)\",\n",
    "    interval_mm_col=\"rain depth in interval (mm)\",\n",
    "    pattern=\"**/*.csv\",                 # recursive\n",
    "    overwrite=True\n",
    ")\n",
    "summary.head()"
   ]
  },
  {
   "cell_type": "markdown",
   "metadata": {},
   "source": [
    "## Find Max Rainfall Intensity whinin 30 Minutes"
   ]
  },
  {
   "cell_type": "code",
   "execution_count": null,
   "metadata": {},
   "outputs": [],
   "source": [
    "import importlib, max_30_min_rainfall\n",
    "importlib.reload(max_30_min_rainfall)\n",
    "\n",
    "\n",
    "written = max_30_min_rainfall.process_max_rolling(\n",
    "    input_path=\"storm_energy\",   \n",
    "    output_dir = \"max_rainfall\",  # your folder\n",
    "    recursive=True\n",
    ")\n",
    "written[:5]"
   ]
  },
  {
   "cell_type": "markdown",
   "metadata": {},
   "source": [
    "## Estimate Erosivity for Individual Events"
   ]
  },
  {
   "cell_type": "code",
   "execution_count": null,
   "metadata": {},
   "outputs": [],
   "source": [
    "import importlib, rainfall_erosivity\n",
    "importlib.reload(rainfall_erosivity)\n",
    "\n",
    "summary = rainfall_erosivity.process_rainfall_erosivity(\n",
    "    input_dir=\"max_rainfall\",        # folder with augmented CSVs (includes '30-min rainfall (mm)')\n",
    "    output_dir=\"rainfall_erosivity\",   # will save to <out>/<stid>/<stid>_<year>_<month>.csv\n",
    "    recursive=True,\n",
    "    write_combined=True\n",
    ")\n",
    "summary.head()"
   ]
  },
  {
   "cell_type": "markdown",
   "metadata": {},
   "source": [
    "## Monthly Erosivity\n"
   ]
  },
  {
   "cell_type": "code",
   "execution_count": null,
   "metadata": {},
   "outputs": [],
   "source": [
    "from importlib import reload\n",
    "import monthly_erosivity\n",
    "\n",
    "reload(monthly_erosivity)  # only needed if you edit the .py file\n",
    "monthly_erosivity.process_monthly_erosivity(\n",
    "    input_dir=\"rainfall_erosivity\",\n",
    "    output_dir=\"monthly_erosivity\"\n",
    ")\n"
   ]
  }
 ],
 "metadata": {
  "kernelspec": {
   "display_name": "base",
   "language": "python",
   "name": "python3"
  },
  "language_info": {
   "codemirror_mode": {
    "name": "ipython",
    "version": 3
   },
   "file_extension": ".py",
   "mimetype": "text/x-python",
   "name": "python",
   "nbconvert_exporter": "python",
   "pygments_lexer": "ipython3",
   "version": "3.12.7"
  }
 },
 "nbformat": 4,
 "nbformat_minor": 2
}
