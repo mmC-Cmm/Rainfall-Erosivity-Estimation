{
 "cells": [
  {
   "cell_type": "code",
   "execution_count": null,
   "id": "b2fb3722",
   "metadata": {},
   "outputs": [],
   "source": [
    "import importlib, identify_storms\n",
    "importlib.reload(identify_storms)  # re-read if you just edited the .py\n",
    "\n",
    "input_folder = \"Rain_Data_High_Quality\"\n",
    "output_folder = \"storms_identification\"\n",
    "\n",
    "summary_df = identify_storms.identify_storms(\n",
    "    input_dir=input_folder,\n",
    "    output_dir=output_folder,\n",
    "    rain_col=\"rain\",   # your column names are lowercase\n",
    "    time_col=\"time\",   # set to None if not present\n",
    "    recursive=True\n",
    ")\n",
    "\n",
    "summary_df.head()\n"
   ]
  },
  {
   "cell_type": "code",
   "execution_count": null,
   "id": "bedd05ea",
   "metadata": {},
   "outputs": [],
   "source": [
    "import importlib, process_intervals\n",
    "importlib.reload(process_intervals)\n",
    "\n",
    "process_intervals.process_directory(\n",
    "    input_dir=\"storms_identification\",\n",
    "    output_dir=\"storm_interval_information\",\n",
    "    recursive=True\n",
    ")\n"
   ]
  },
  {
   "cell_type": "code",
   "execution_count": null,
   "id": "40af9aa6",
   "metadata": {},
   "outputs": [],
   "source": [
    "import importlib, separate_storm_events\n",
    "importlib.reload(separate_storm_events)\n",
    "\n",
    "summary = separate_storm_events.separate_storm_events(\n",
    "    input_dir=\"storm_interval_information\",\n",
    "    output_dir=\"single_storm\",\n",
    "    recursive=True,\n",
    "    station_col=\"stid\",\n",
    "    cumulative_col=\"cumulative rain depth (mm)\",\n",
    "    columns_to_reset=None,   # or pass your own list (must match lowercase names)\n",
    "    sort_by_time_col=\"time\"\n",
    ")\n",
    "summary.head()\n"
   ]
  },
  {
   "cell_type": "code",
   "execution_count": null,
   "id": "c7d5a6de",
   "metadata": {},
   "outputs": [],
   "source": [
    "import importlib, erosive_storms\n",
    "importlib.reload(erosive_storms)\n",
    "\n",
    "summary = erosive_storms.filter_erosive_storms(\n",
    "    input_dir=\"single_storm\",\n",
    "    output_dir=\"erosive_storms\",\n",
    "    threshold_mm=12.7,  # 12.7 mm (~0.5 in)\n",
    "    cumulative_col=\"cumulative rain depth (mm)\",  # must match your files\n",
    "    station_col=\"stid\",\n",
    "    time_col=\"time\"\n",
    ")\n",
    "summary.head()\n"
   ]
  },
  {
   "cell_type": "code",
   "execution_count": null,
   "id": "4ac68c7e",
   "metadata": {},
   "outputs": [],
   "source": [
    "import importlib, rainfall_erosivity\n",
    "importlib.reload(rainfall_erosivity)\n",
    "\n",
    "summary = rainfall_erosivity.process_rainfall_erosivity(\n",
    "    input_dir=\"erosive_storms\",\n",
    "    output_dir=\"rainfall_erosivity\",\n",
    "    recursive=True\n",
    ")\n",
    "summary.head()\n"
   ]
  },
  {
   "cell_type": "code",
   "execution_count": null,
   "id": "5a277c3d",
   "metadata": {},
   "outputs": [],
   "source": [
    "from importlib import reload\n",
    "import monthly_erosivity\n",
    "\n",
    "reload(monthly_erosivity)  # only needed if you edit the .py file\n",
    "monthly_erosivity.process_monthly_erosivity(\n",
    "    input_dir=\"rainfall_erosivity\",\n",
    "    output_dir=\"monthly_erosivity\"\n",
    ")\n"
   ]
  }
 ],
 "metadata": {
  "language_info": {
   "name": "python"
  }
 },
 "nbformat": 4,
 "nbformat_minor": 5
}
